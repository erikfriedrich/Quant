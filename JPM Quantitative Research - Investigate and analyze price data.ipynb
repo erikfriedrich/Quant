{
 "cells": [
  {
   "cell_type": "markdown",
   "id": "9e8d58a6",
   "metadata": {},
   "source": [
    "# Import libraries and load the Data from the CSV-File\n"
   ]
  },
  {
   "cell_type": "code",
   "execution_count": 1,
   "id": "240dab24",
   "metadata": {},
   "outputs": [],
   "source": [
    "# import everything we'll need\n",
    "import pandas as pd\n",
    "import numpy as np\n",
    "import matplotlib.pyplot as plt\n",
    "from prophet import Prophet\n",
    "\n",
    "# read in the csv-file containing the data\n",
    "data = pd.read_csv(\"/Users/erikfriedrich/Downloads/Nat_Gas.csv\")"
   ]
  },
  {
   "cell_type": "markdown",
   "id": "1b0da991",
   "metadata": {},
   "source": [
    "# Fill the gaps in our Data"
   ]
  },
  {
   "cell_type": "code",
   "execution_count": null,
   "id": "54eabf26",
   "metadata": {},
   "outputs": [],
   "source": [
    "# format the date\n",
    "data['Dates'] = pd.to_datetime(data['Dates'], format='%m/%f/%y')\n",
    "data['Dates'] = data['Dates'].dt.date # cuts hours, minutes, seconds etc. from the timestamp\n",
    "\n",
    "# set Date as the index\n",
    "data = data.set_index('Dates')"
   ]
  },
  {
   "cell_type": "code",
   "execution_count": null,
   "id": "0d3f8eb2",
   "metadata": {},
   "outputs": [],
   "source": [
    "# find beginning and end of our timeframe\n",
    "start_date = data.index.min()\n",
    "end_date = data.index.max()\n",
    "\n",
    "# get all the dates between start and end to assign them prices later\n",
    "daily_range = pd.date_range(start=start_date, end=end_date, freq=\"D\")\n",
    "daily_data = pd.DataFrame(index=daily_range)"
   ]
  },
  {
   "cell_type": "code",
   "execution_count": null,
   "id": "8e5ce8bb",
   "metadata": {},
   "outputs": [],
   "source": [
    "# merge data and daily_data\n",
    "merged_df = daily_data.merge(data, how=\"left\", left_index=True, right_index=True)\n",
    "\n",
    "# there are only a couple values in our dataframe (at the end of each month)\n",
    "# to fill the gaps, we use interpolate and approximate the values in a month using a second degree polynomial\n",
    "merged_df[\"Prices\"] = merged_df['Prices'].interpolate(method='linear',  limit_direction='both')\n",
    "\n",
    "# we reset the index, so that the date becomes a column again, which is necessary for Prophet\n",
    "merged_df = merged_df.reset_index()\n",
    "\n",
    "# rename the columns to ds (referring to the Dates) and y (referring to the price), so that Prophet can work with it\n",
    "merged_df.columns = [\"ds\", \"y\"]"
   ]
  },
  {
   "cell_type": "markdown",
   "id": "3ce45aec",
   "metadata": {},
   "source": [
    "# Use Prophet to predict the values for the next year"
   ]
  },
  {
   "cell_type": "code",
   "execution_count": null,
   "id": "73483259",
   "metadata": {},
   "outputs": [],
   "source": [
    "m = Prophet()\n",
    "m.fit(merged_df)\n",
    "future = m.make_future_dataframe(periods=365)\n",
    "prediction = m.predict(future)\n",
    "m.plot(prediction)\n",
    "\n",
    "plt.title(\"Prediction of Natural Gas Prices 365 into the future\")\n",
    "plt.xlabel(\"Date\")\n",
    "plt.ylabel(\"Nat Gas Price\")\n",
    "plt.show()\n",
    "print(prediction)"
   ]
  },
  {
   "cell_type": "code",
   "execution_count": null,
   "id": "fd92e21c",
   "metadata": {},
   "outputs": [],
   "source": [
    "# save the relavant dataframes, so that we don't have to run the model, everytime we want to get the approximative price for a given date\n",
    "prediction.to_csv(\"/Users/erikfriedrich/Downloads/Nat_Gas_Hat.csv\")\n",
    "merged_df.to_csv(\"/Users/erikfriedrich/Downloads/Nat_Gas_Filled.csv\")"
   ]
  },
  {
   "cell_type": "markdown",
   "id": "ad147381",
   "metadata": {},
   "source": [
    "# Write a Function that returns the Price given a Year, a Month and a Day"
   ]
  },
  {
   "cell_type": "code",
   "execution_count": 6,
   "id": "82b9f3bf",
   "metadata": {},
   "outputs": [],
   "source": [
    "# load up the files again\n",
    "df_hat = pd.read_csv(\"/Users/erikfriedrich/Downloads/Nat_Gas_Hat.csv\")\n",
    "df_fill = pd.read_csv(\"/Users/erikfriedrich/Downloads/Nat_Gas_Filled.csv\")L"
   ]
  },
  {
   "cell_type": "code",
   "execution_count": null,
   "id": "91a32b21",
   "metadata": {},
   "outputs": [],
   "source": [
    "def DateToPrice(year, month, day):\n",
    "    \n",
    "    # turns year, month and day into datetime format\n",
    "    date_obj = datetime(year, month, day)\n",
    "    formatted_date = date_obj.strftime(\"%Y-%m-%d\")\n",
    "    datetime_obj = datetime.strptime(formatted_date, \"%Y-%m-%d\")\n",
    "    \n",
    "    # specifies the cutoff date\n",
    "    cutoff_date = datetime.strptime(\"2024-09-01\", \"%Y-%m-%d\")\n",
    "    \n",
    "    # if the inputted date is greater than the cutoff date, we look into the dataframe with the predicted values\n",
    "    # otherwise we use the dataframe with the values that we've filled in the beginning\n",
    "    if date_obj > cutoff_date:\n",
    "        return df_hat[\"yhat\"].loc[df_hat[\"ds\"] == formatted_date]\n",
    "    else:\n",
    "        return df_fill[\"y\"].loc[df_fill[\"ds\"] == formatted_date]"
   ]
  },
  {
   "cell_type": "code",
   "execution_count": null,
   "id": "b9401763",
   "metadata": {},
   "outputs": [],
   "source": [
    "# Example inputs:\n",
    "\n",
    "year = 2024\n",
    "month = 10\n",
    "day = 30\n",
    "DateToPrice(year, month, day)"
   ]
  }
 ],
 "metadata": {
  "kernelspec": {
   "display_name": "Python 3 (ipykernel)",
   "language": "python",
   "name": "python3"
  },
  "language_info": {
   "codemirror_mode": {
    "name": "ipython",
    "version": 3
   },
   "file_extension": ".py",
   "mimetype": "text/x-python",
   "name": "python",
   "nbconvert_exporter": "python",
   "pygments_lexer": "ipython3",
   "version": "3.9.16"
  }
 },
 "nbformat": 4,
 "nbformat_minor": 5
}
