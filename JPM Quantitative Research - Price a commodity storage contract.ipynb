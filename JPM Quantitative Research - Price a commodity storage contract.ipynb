{
 "cells": [
  {
   "cell_type": "markdown",
   "id": "3a158171",
   "metadata": {},
   "source": [
    "# Import libraries and load CSV-Files"
   ]
  },
  {
   "cell_type": "code",
   "execution_count": 15,
   "id": "d9f2b026",
   "metadata": {},
   "outputs": [],
   "source": [
    "import pandas as pd\n",
    "import numpy as np\n",
    "import matplotlib.pyplot as plt\n",
    "from datetime import datetime\n",
    "\n",
    "df_hat = pd.read_csv(\"/Users/erikfriedrich/Downloads/Nat_Gas_Hat.csv\")\n",
    "df_fill = pd.read_csv(\"/Users/erikfriedrich/Downloads/Nat_Gas_Filled.csv\")"
   ]
  },
  {
   "cell_type": "markdown",
   "id": "992bf719",
   "metadata": {},
   "source": [
    "# Building the Functions"
   ]
  },
  {
   "cell_type": "code",
   "execution_count": 55,
   "id": "7cb2ecca",
   "metadata": {},
   "outputs": [],
   "source": [
    "# this function gets the prices for each specified date\n",
    "# this will be used to calculate how much money will be made by buying and selling the security\n",
    "\n",
    "def GetPrices(injection_dates, withdrawal_dates):\n",
    "    \n",
    "    cutoff_date = datetime.strptime(\"2024-09-01\", \"%Y-%m-%d\") # cutoff date, that decides in which dataframe we'll search\n",
    "    prices_dict = {} # create an empty dict to store the dates and prices \n",
    "    \n",
    "    # get's the prices for each injection (buying)\n",
    "    for i in injection_dates:\n",
    "        \n",
    "        # same logic as in the chapter before\n",
    "        date = datetime.strptime(i, \"%Y-%m-%d\")\n",
    "        formatted_date = date.strftime(\"%Y-%m-%d\")\n",
    "    \n",
    "        if date > cutoff_date:\n",
    "            price = float(df_hat[\"yhat\"].loc[df_hat[\"ds\"] == formatted_date]) \n",
    "        else:\n",
    "            price = float(df_fill[\"y\"].loc[df_fill[\"ds\"] == formatted_date])\n",
    "        \n",
    "        # add new key to our dict, with negative price, because we're buying\n",
    "        prices_dict[i] = -price\n",
    "    \n",
    "    # get's the prices at each withdrawal (selling)\n",
    "    for j in withdrawal_dates:\n",
    "        \n",
    "        # same logic as in the chapter before\n",
    "        date = datetime.strptime(j, \"%Y-%m-%d\")\n",
    "        formatted_date = date.strftime(\"%Y-%m-%d\")\n",
    "    \n",
    "        if date > cutoff_date:\n",
    "            price = float(df_hat[\"yhat\"].loc[df_hat[\"ds\"] == formatted_date]) \n",
    "        else:\n",
    "            price = float(df_fill[\"y\"].loc[df_fill[\"ds\"] == formatted_date])\n",
    "        \n",
    "        # positive price because we're selling\n",
    "        prices_dict[j] = price\n",
    "        \n",
    "    return prices_dict"
   ]
  },
  {
   "cell_type": "code",
   "execution_count": 56,
   "id": "b103d016",
   "metadata": {},
   "outputs": [],
   "source": [
    "# this function calculates the dates that we've stored the Gas\n",
    "# we need this to calculate how much money we have to spend on storage\n",
    "\n",
    "# the function calculates the deltas between injection and withdrawal dates and adds them together\n",
    "\n",
    "def DaysStored(injection_dates, withdrawal_dates):\n",
    "    \n",
    "    days = 0\n",
    "    \n",
    "    for i in range(len(injection_dates)):\n",
    "        \n",
    "        inj_date = datetime.strptime(injection_dates[i], \"%Y-%m-%d\")\n",
    "        with_date = datetime.strptime(withdrawal_dates[i], \"%Y-%m-%d\")\n",
    "    \n",
    "        delta = with_date - inj_date\n",
    "        days += delta.days\n",
    "        \n",
    "    return days"
   ]
  },
  {
   "cell_type": "code",
   "execution_count": 57,
   "id": "36c5b463",
   "metadata": {},
   "outputs": [],
   "source": [
    "# this function returns the price of the contract\n",
    "\n",
    "def PriceContract(injection_dates, withdrawal_dates, pumping_costs, max_store, storage_costs):\n",
    "    \n",
    "    # calculates the revenue we've made from buying and selling the security\n",
    "    # assuming that we always buy the maximum amount that is possible\n",
    "    prices = GetPrices(injection_dates, withdrawal_dates)\n",
    "    rev = sum(prices.values()) * max_store\n",
    "    \n",
    "    # counts the times we've injection or withdrawan gas times the amount each time costs us\n",
    "    pumping = len(prices) * pumping_costs\n",
    "    \n",
    "    # calculates the storage costs depending on the days stored times the rate for each day\n",
    "    days = DaysStored(injection_dates, withdrawal_dates) \n",
    "    storage = days * storage_costs\n",
    "    \n",
    "    # calculates the value of the contract (revenue - costs)\n",
    "    # and returns it\n",
    "    value = rev - pumping - storage\n",
    "    return value"
   ]
  },
  {
   "cell_type": "markdown",
   "id": "ca991afb",
   "metadata": {},
   "source": [
    "# Sample Inputs"
   ]
  },
  {
   "cell_type": "code",
   "execution_count": 60,
   "id": "d4108f9e",
   "metadata": {},
   "outputs": [
    {
     "data": {
      "text/plain": [
       "{'2020-10-1': -10.1,\n",
       " '2024-12-1': 12.805616985777249,\n",
       " '2025-04-15': 11.987705218882263}"
      ]
     },
     "execution_count": 60,
     "metadata": {},
     "output_type": "execute_result"
    }
   ],
   "source": [
    "injection_dates = [\"2020-10-1\", \"2024-12-1\"]\n",
    "withdrawal_dates = [\"2024-12-1\", \"2025-04-15\"]\n",
    "pumping_costs = 1_000\n",
    "max_store = 1_000\n",
    "storage_costs = 1_000\n",
    "\n",
    "PriceContract(injection_dates, withdrawal_dates, pumping_costs, max_store, storage_costs)"
   ]
  },
  {
   "cell_type": "markdown",
   "id": "eb240484",
   "metadata": {},
   "source": [
    "# Limitations\n",
    "\n",
    "We assume that the number of times we inject and withdraw gas are equal and we always start by injecting.\n",
    "Meaning that we start without a position in gas and end without having a position.\n",
    "\n",
    "We also assume that we always buy the maximum amount that is possible.\n",
    "This constraint implies that there can't be two injection dates without a withdrawal date inbetween and vice versa.\n",
    "\n",
    "Another constraint is, that there can't be buying and selling the same day. \n",
    "(Which is quite logical in this model, since the revenue from that is zero but it comes with injection and withdrawal costs, so it always has negative EV)"
   ]
  }
 ],
 "metadata": {
  "kernelspec": {
   "display_name": "Python 3 (ipykernel)",
   "language": "python",
   "name": "python3"
  },
  "language_info": {
   "codemirror_mode": {
    "name": "ipython",
    "version": 3
   },
   "file_extension": ".py",
   "mimetype": "text/x-python",
   "name": "python",
   "nbconvert_exporter": "python",
   "pygments_lexer": "ipython3",
   "version": "3.9.16"
  }
 },
 "nbformat": 4,
 "nbformat_minor": 5
}
